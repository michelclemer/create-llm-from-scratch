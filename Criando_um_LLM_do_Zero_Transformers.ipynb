{
  "nbformat": 4,
  "nbformat_minor": 0,
  "metadata": {
    "colab": {
      "provenance": [],
      "machine_shape": "hm",
      "gpuType": "L4",
      "authorship_tag": "ABX9TyPVYhHe16/Wqr7mOOTiShIR",
      "include_colab_link": true
    },
    "kernelspec": {
      "name": "python3",
      "display_name": "Python 3"
    },
    "language_info": {
      "name": "python"
    },
    "accelerator": "GPU"
  },
  "cells": [
    {
      "cell_type": "markdown",
      "metadata": {
        "id": "view-in-github",
        "colab_type": "text"
      },
      "source": [
        "<a href=\"https://colab.research.google.com/github/michelclemer/create-llm-from-scratch/blob/main/Criando_um_LLM_do_Zero_Transformers.ipynb\" target=\"_parent\"><img src=\"https://colab.research.google.com/assets/colab-badge.svg\" alt=\"Open In Colab\"/></a>"
      ]
    },
    {
      "cell_type": "code",
      "execution_count": 1,
      "metadata": {
        "colab": {
          "base_uri": "https://localhost:8080/"
        },
        "id": "AXTyR-5Xi7d_",
        "outputId": "8494be17-05c7-4c79-aa69-8a1bb55e53f7"
      },
      "outputs": [
        {
          "output_type": "stream",
          "name": "stdout",
          "text": [
            "[' ', '!', 'a', 'd', 'e', 'f', 'm', 'n', 'o', 'p', 'r', 's', 't', 'v']\n",
            "14\n"
          ]
        }
      ],
      "source": [
        "texto = \"vamos aprender transformers!\"\n",
        "caracteres = sorted(list(set(str(texto).lower())))\n",
        "print(caracteres)\n",
        "print(len(caracteres))"
      ]
    },
    {
      "cell_type": "code",
      "source": [
        "letra_para_index = {y:x for x, y in enumerate(caracteres)}\n",
        "index_para_letra = {x:y for x, y in enumerate(caracteres)}\n",
        "print(letra_para_index)\n",
        "print(index_para_letra)"
      ],
      "metadata": {
        "colab": {
          "base_uri": "https://localhost:8080/"
        },
        "id": "Nk6Y6w4skvPP",
        "outputId": "8c9a28fe-37ee-43ce-97fe-1139281aee56"
      },
      "execution_count": 2,
      "outputs": [
        {
          "output_type": "stream",
          "name": "stdout",
          "text": [
            "{' ': 0, '!': 1, 'a': 2, 'd': 3, 'e': 4, 'f': 5, 'm': 6, 'n': 7, 'o': 8, 'p': 9, 'r': 10, 's': 11, 't': 12, 'v': 13}\n",
            "{0: ' ', 1: '!', 2: 'a', 3: 'd', 4: 'e', 5: 'f', 6: 'm', 7: 'n', 8: 'o', 9: 'p', 10: 'r', 11: 's', 12: 't', 13: 'v'}\n"
          ]
        }
      ]
    },
    {
      "cell_type": "code",
      "source": [
        "encode = lambda s: [letra_para_index[c] for c in s]\n",
        "enc = encode('vamos aprender transformers')\n",
        "dec = lambda l: ''.join([index_para_letra[i] for i in l])\n",
        "print(enc)\n",
        "print(dec(enc))"
      ],
      "metadata": {
        "colab": {
          "base_uri": "https://localhost:8080/"
        },
        "id": "gDGgRczTW1K1",
        "outputId": "5c840bdd-2989-47f9-f507-264419c6daf9"
      },
      "execution_count": 3,
      "outputs": [
        {
          "output_type": "stream",
          "name": "stdout",
          "text": [
            "[13, 2, 6, 8, 11, 0, 2, 9, 10, 4, 7, 3, 4, 10, 0, 12, 10, 2, 7, 11, 5, 8, 10, 6, 4, 10, 11]\n",
            "vamos aprender transformers\n"
          ]
        }
      ]
    },
    {
      "cell_type": "markdown",
      "source": [
        "Encoding pro palavras"
      ],
      "metadata": {
        "id": "edIw6tyTZV87"
      }
    },
    {
      "cell_type": "code",
      "source": [
        "import pandas as pd\n",
        "import numpy as np\n",
        "\n",
        "texto = {\n",
        "    'texto': [\n",
        "        'você está começando a aprender Transformers',\n",
        "        'talvez você esteja começando a gostar'\n",
        "    ]\n",
        "}\n",
        "df = pd.DataFrame(texto)\n",
        "df"
      ],
      "metadata": {
        "colab": {
          "base_uri": "https://localhost:8080/",
          "height": 125
        },
        "id": "fj37tvA7ZYb0",
        "outputId": "177259c8-2db4-43bd-811b-6f5648f33b49"
      },
      "execution_count": 4,
      "outputs": [
        {
          "output_type": "execute_result",
          "data": {
            "text/plain": [
              "                                         texto\n",
              "0  você está começando a aprender Transformers\n",
              "1        talvez você esteja começando a gostar"
            ],
            "text/html": [
              "\n",
              "  <div id=\"df-57b197f1-b59e-4bba-b6c1-49043f470497\" class=\"colab-df-container\">\n",
              "    <div>\n",
              "<style scoped>\n",
              "    .dataframe tbody tr th:only-of-type {\n",
              "        vertical-align: middle;\n",
              "    }\n",
              "\n",
              "    .dataframe tbody tr th {\n",
              "        vertical-align: top;\n",
              "    }\n",
              "\n",
              "    .dataframe thead th {\n",
              "        text-align: right;\n",
              "    }\n",
              "</style>\n",
              "<table border=\"1\" class=\"dataframe\">\n",
              "  <thead>\n",
              "    <tr style=\"text-align: right;\">\n",
              "      <th></th>\n",
              "      <th>texto</th>\n",
              "    </tr>\n",
              "  </thead>\n",
              "  <tbody>\n",
              "    <tr>\n",
              "      <th>0</th>\n",
              "      <td>você está começando a aprender Transformers</td>\n",
              "    </tr>\n",
              "    <tr>\n",
              "      <th>1</th>\n",
              "      <td>talvez você esteja começando a gostar</td>\n",
              "    </tr>\n",
              "  </tbody>\n",
              "</table>\n",
              "</div>\n",
              "    <div class=\"colab-df-buttons\">\n",
              "\n",
              "  <div class=\"colab-df-container\">\n",
              "    <button class=\"colab-df-convert\" onclick=\"convertToInteractive('df-57b197f1-b59e-4bba-b6c1-49043f470497')\"\n",
              "            title=\"Convert this dataframe to an interactive table.\"\n",
              "            style=\"display:none;\">\n",
              "\n",
              "  <svg xmlns=\"http://www.w3.org/2000/svg\" height=\"24px\" viewBox=\"0 -960 960 960\">\n",
              "    <path d=\"M120-120v-720h720v720H120Zm60-500h600v-160H180v160Zm220 220h160v-160H400v160Zm0 220h160v-160H400v160ZM180-400h160v-160H180v160Zm440 0h160v-160H620v160ZM180-180h160v-160H180v160Zm440 0h160v-160H620v160Z\"/>\n",
              "  </svg>\n",
              "    </button>\n",
              "\n",
              "  <style>\n",
              "    .colab-df-container {\n",
              "      display:flex;\n",
              "      gap: 12px;\n",
              "    }\n",
              "\n",
              "    .colab-df-convert {\n",
              "      background-color: #E8F0FE;\n",
              "      border: none;\n",
              "      border-radius: 50%;\n",
              "      cursor: pointer;\n",
              "      display: none;\n",
              "      fill: #1967D2;\n",
              "      height: 32px;\n",
              "      padding: 0 0 0 0;\n",
              "      width: 32px;\n",
              "    }\n",
              "\n",
              "    .colab-df-convert:hover {\n",
              "      background-color: #E2EBFA;\n",
              "      box-shadow: 0px 1px 2px rgba(60, 64, 67, 0.3), 0px 1px 3px 1px rgba(60, 64, 67, 0.15);\n",
              "      fill: #174EA6;\n",
              "    }\n",
              "\n",
              "    .colab-df-buttons div {\n",
              "      margin-bottom: 4px;\n",
              "    }\n",
              "\n",
              "    [theme=dark] .colab-df-convert {\n",
              "      background-color: #3B4455;\n",
              "      fill: #D2E3FC;\n",
              "    }\n",
              "\n",
              "    [theme=dark] .colab-df-convert:hover {\n",
              "      background-color: #434B5C;\n",
              "      box-shadow: 0px 1px 3px 1px rgba(0, 0, 0, 0.15);\n",
              "      filter: drop-shadow(0px 1px 2px rgba(0, 0, 0, 0.3));\n",
              "      fill: #FFFFFF;\n",
              "    }\n",
              "  </style>\n",
              "\n",
              "    <script>\n",
              "      const buttonEl =\n",
              "        document.querySelector('#df-57b197f1-b59e-4bba-b6c1-49043f470497 button.colab-df-convert');\n",
              "      buttonEl.style.display =\n",
              "        google.colab.kernel.accessAllowed ? 'block' : 'none';\n",
              "\n",
              "      async function convertToInteractive(key) {\n",
              "        const element = document.querySelector('#df-57b197f1-b59e-4bba-b6c1-49043f470497');\n",
              "        const dataTable =\n",
              "          await google.colab.kernel.invokeFunction('convertToInteractive',\n",
              "                                                    [key], {});\n",
              "        if (!dataTable) return;\n",
              "\n",
              "        const docLinkHtml = 'Like what you see? Visit the ' +\n",
              "          '<a target=\"_blank\" href=https://colab.research.google.com/notebooks/data_table.ipynb>data table notebook</a>'\n",
              "          + ' to learn more about interactive tables.';\n",
              "        element.innerHTML = '';\n",
              "        dataTable['output_type'] = 'display_data';\n",
              "        await google.colab.output.renderOutput(dataTable, element);\n",
              "        const docLink = document.createElement('div');\n",
              "        docLink.innerHTML = docLinkHtml;\n",
              "        element.appendChild(docLink);\n",
              "      }\n",
              "    </script>\n",
              "  </div>\n",
              "\n",
              "\n",
              "<div id=\"df-0044a6b3-2449-47c4-aa8e-3b44ad0c4ea7\">\n",
              "  <button class=\"colab-df-quickchart\" onclick=\"quickchart('df-0044a6b3-2449-47c4-aa8e-3b44ad0c4ea7')\"\n",
              "            title=\"Suggest charts\"\n",
              "            style=\"display:none;\">\n",
              "\n",
              "<svg xmlns=\"http://www.w3.org/2000/svg\" height=\"24px\"viewBox=\"0 0 24 24\"\n",
              "     width=\"24px\">\n",
              "    <g>\n",
              "        <path d=\"M19 3H5c-1.1 0-2 .9-2 2v14c0 1.1.9 2 2 2h14c1.1 0 2-.9 2-2V5c0-1.1-.9-2-2-2zM9 17H7v-7h2v7zm4 0h-2V7h2v10zm4 0h-2v-4h2v4z\"/>\n",
              "    </g>\n",
              "</svg>\n",
              "  </button>\n",
              "\n",
              "<style>\n",
              "  .colab-df-quickchart {\n",
              "      --bg-color: #E8F0FE;\n",
              "      --fill-color: #1967D2;\n",
              "      --hover-bg-color: #E2EBFA;\n",
              "      --hover-fill-color: #174EA6;\n",
              "      --disabled-fill-color: #AAA;\n",
              "      --disabled-bg-color: #DDD;\n",
              "  }\n",
              "\n",
              "  [theme=dark] .colab-df-quickchart {\n",
              "      --bg-color: #3B4455;\n",
              "      --fill-color: #D2E3FC;\n",
              "      --hover-bg-color: #434B5C;\n",
              "      --hover-fill-color: #FFFFFF;\n",
              "      --disabled-bg-color: #3B4455;\n",
              "      --disabled-fill-color: #666;\n",
              "  }\n",
              "\n",
              "  .colab-df-quickchart {\n",
              "    background-color: var(--bg-color);\n",
              "    border: none;\n",
              "    border-radius: 50%;\n",
              "    cursor: pointer;\n",
              "    display: none;\n",
              "    fill: var(--fill-color);\n",
              "    height: 32px;\n",
              "    padding: 0;\n",
              "    width: 32px;\n",
              "  }\n",
              "\n",
              "  .colab-df-quickchart:hover {\n",
              "    background-color: var(--hover-bg-color);\n",
              "    box-shadow: 0 1px 2px rgba(60, 64, 67, 0.3), 0 1px 3px 1px rgba(60, 64, 67, 0.15);\n",
              "    fill: var(--button-hover-fill-color);\n",
              "  }\n",
              "\n",
              "  .colab-df-quickchart-complete:disabled,\n",
              "  .colab-df-quickchart-complete:disabled:hover {\n",
              "    background-color: var(--disabled-bg-color);\n",
              "    fill: var(--disabled-fill-color);\n",
              "    box-shadow: none;\n",
              "  }\n",
              "\n",
              "  .colab-df-spinner {\n",
              "    border: 2px solid var(--fill-color);\n",
              "    border-color: transparent;\n",
              "    border-bottom-color: var(--fill-color);\n",
              "    animation:\n",
              "      spin 1s steps(1) infinite;\n",
              "  }\n",
              "\n",
              "  @keyframes spin {\n",
              "    0% {\n",
              "      border-color: transparent;\n",
              "      border-bottom-color: var(--fill-color);\n",
              "      border-left-color: var(--fill-color);\n",
              "    }\n",
              "    20% {\n",
              "      border-color: transparent;\n",
              "      border-left-color: var(--fill-color);\n",
              "      border-top-color: var(--fill-color);\n",
              "    }\n",
              "    30% {\n",
              "      border-color: transparent;\n",
              "      border-left-color: var(--fill-color);\n",
              "      border-top-color: var(--fill-color);\n",
              "      border-right-color: var(--fill-color);\n",
              "    }\n",
              "    40% {\n",
              "      border-color: transparent;\n",
              "      border-right-color: var(--fill-color);\n",
              "      border-top-color: var(--fill-color);\n",
              "    }\n",
              "    60% {\n",
              "      border-color: transparent;\n",
              "      border-right-color: var(--fill-color);\n",
              "    }\n",
              "    80% {\n",
              "      border-color: transparent;\n",
              "      border-right-color: var(--fill-color);\n",
              "      border-bottom-color: var(--fill-color);\n",
              "    }\n",
              "    90% {\n",
              "      border-color: transparent;\n",
              "      border-bottom-color: var(--fill-color);\n",
              "    }\n",
              "  }\n",
              "</style>\n",
              "\n",
              "  <script>\n",
              "    async function quickchart(key) {\n",
              "      const quickchartButtonEl =\n",
              "        document.querySelector('#' + key + ' button');\n",
              "      quickchartButtonEl.disabled = true;  // To prevent multiple clicks.\n",
              "      quickchartButtonEl.classList.add('colab-df-spinner');\n",
              "      try {\n",
              "        const charts = await google.colab.kernel.invokeFunction(\n",
              "            'suggestCharts', [key], {});\n",
              "      } catch (error) {\n",
              "        console.error('Error during call to suggestCharts:', error);\n",
              "      }\n",
              "      quickchartButtonEl.classList.remove('colab-df-spinner');\n",
              "      quickchartButtonEl.classList.add('colab-df-quickchart-complete');\n",
              "    }\n",
              "    (() => {\n",
              "      let quickchartButtonEl =\n",
              "        document.querySelector('#df-0044a6b3-2449-47c4-aa8e-3b44ad0c4ea7 button');\n",
              "      quickchartButtonEl.style.display =\n",
              "        google.colab.kernel.accessAllowed ? 'block' : 'none';\n",
              "    })();\n",
              "  </script>\n",
              "</div>\n",
              "\n",
              "  <div id=\"id_ec74aa31-38fe-4aff-9a90-3b388be29407\">\n",
              "    <style>\n",
              "      .colab-df-generate {\n",
              "        background-color: #E8F0FE;\n",
              "        border: none;\n",
              "        border-radius: 50%;\n",
              "        cursor: pointer;\n",
              "        display: none;\n",
              "        fill: #1967D2;\n",
              "        height: 32px;\n",
              "        padding: 0 0 0 0;\n",
              "        width: 32px;\n",
              "      }\n",
              "\n",
              "      .colab-df-generate:hover {\n",
              "        background-color: #E2EBFA;\n",
              "        box-shadow: 0px 1px 2px rgba(60, 64, 67, 0.3), 0px 1px 3px 1px rgba(60, 64, 67, 0.15);\n",
              "        fill: #174EA6;\n",
              "      }\n",
              "\n",
              "      [theme=dark] .colab-df-generate {\n",
              "        background-color: #3B4455;\n",
              "        fill: #D2E3FC;\n",
              "      }\n",
              "\n",
              "      [theme=dark] .colab-df-generate:hover {\n",
              "        background-color: #434B5C;\n",
              "        box-shadow: 0px 1px 3px 1px rgba(0, 0, 0, 0.15);\n",
              "        filter: drop-shadow(0px 1px 2px rgba(0, 0, 0, 0.3));\n",
              "        fill: #FFFFFF;\n",
              "      }\n",
              "    </style>\n",
              "    <button class=\"colab-df-generate\" onclick=\"generateWithVariable('df')\"\n",
              "            title=\"Generate code using this dataframe.\"\n",
              "            style=\"display:none;\">\n",
              "\n",
              "  <svg xmlns=\"http://www.w3.org/2000/svg\" height=\"24px\"viewBox=\"0 0 24 24\"\n",
              "       width=\"24px\">\n",
              "    <path d=\"M7,19H8.4L18.45,9,17,7.55,7,17.6ZM5,21V16.75L18.45,3.32a2,2,0,0,1,2.83,0l1.4,1.43a1.91,1.91,0,0,1,.58,1.4,1.91,1.91,0,0,1-.58,1.4L9.25,21ZM18.45,9,17,7.55Zm-12,3A5.31,5.31,0,0,0,4.9,8.1,5.31,5.31,0,0,0,1,6.5,5.31,5.31,0,0,0,4.9,4.9,5.31,5.31,0,0,0,6.5,1,5.31,5.31,0,0,0,8.1,4.9,5.31,5.31,0,0,0,12,6.5,5.46,5.46,0,0,0,6.5,12Z\"/>\n",
              "  </svg>\n",
              "    </button>\n",
              "    <script>\n",
              "      (() => {\n",
              "      const buttonEl =\n",
              "        document.querySelector('#id_ec74aa31-38fe-4aff-9a90-3b388be29407 button.colab-df-generate');\n",
              "      buttonEl.style.display =\n",
              "        google.colab.kernel.accessAllowed ? 'block' : 'none';\n",
              "\n",
              "      buttonEl.onclick = () => {\n",
              "        google.colab.notebook.generateWithVariable('df');\n",
              "      }\n",
              "      })();\n",
              "    </script>\n",
              "  </div>\n",
              "\n",
              "    </div>\n",
              "  </div>\n"
            ],
            "application/vnd.google.colaboratory.intrinsic+json": {
              "type": "dataframe",
              "variable_name": "df",
              "summary": "{\n  \"name\": \"df\",\n  \"rows\": 2,\n  \"fields\": [\n    {\n      \"column\": \"texto\",\n      \"properties\": {\n        \"dtype\": \"string\",\n        \"num_unique_values\": 2,\n        \"samples\": [\n          \"talvez voc\\u00ea esteja come\\u00e7ando a gostar\",\n          \"voc\\u00ea est\\u00e1 come\\u00e7ando a aprender Transformers\"\n        ],\n        \"semantic_type\": \"\",\n        \"description\": \"\"\n      }\n    }\n  ]\n}"
            }
          },
          "metadata": {},
          "execution_count": 4
        }
      ]
    },
    {
      "cell_type": "code",
      "source": [
        "df['texto'].str.get_dummies(\" \")"
      ],
      "metadata": {
        "colab": {
          "base_uri": "https://localhost:8080/",
          "height": 112
        },
        "id": "E7jkdmghZuFe",
        "outputId": "8f3fbf82-68a9-4b07-dd4d-cfd2dc44af33"
      },
      "execution_count": 5,
      "outputs": [
        {
          "output_type": "execute_result",
          "data": {
            "text/plain": [
              "   Transformers  a  aprender  começando  esteja  está  gostar  talvez  você\n",
              "0             1  1         1          1       0     1       0       0     1\n",
              "1             0  1         0          1       1     0       1       1     1"
            ],
            "text/html": [
              "\n",
              "  <div id=\"df-ff37102b-ea45-4050-9239-1ce42587186b\" class=\"colab-df-container\">\n",
              "    <div>\n",
              "<style scoped>\n",
              "    .dataframe tbody tr th:only-of-type {\n",
              "        vertical-align: middle;\n",
              "    }\n",
              "\n",
              "    .dataframe tbody tr th {\n",
              "        vertical-align: top;\n",
              "    }\n",
              "\n",
              "    .dataframe thead th {\n",
              "        text-align: right;\n",
              "    }\n",
              "</style>\n",
              "<table border=\"1\" class=\"dataframe\">\n",
              "  <thead>\n",
              "    <tr style=\"text-align: right;\">\n",
              "      <th></th>\n",
              "      <th>Transformers</th>\n",
              "      <th>a</th>\n",
              "      <th>aprender</th>\n",
              "      <th>começando</th>\n",
              "      <th>esteja</th>\n",
              "      <th>está</th>\n",
              "      <th>gostar</th>\n",
              "      <th>talvez</th>\n",
              "      <th>você</th>\n",
              "    </tr>\n",
              "  </thead>\n",
              "  <tbody>\n",
              "    <tr>\n",
              "      <th>0</th>\n",
              "      <td>1</td>\n",
              "      <td>1</td>\n",
              "      <td>1</td>\n",
              "      <td>1</td>\n",
              "      <td>0</td>\n",
              "      <td>1</td>\n",
              "      <td>0</td>\n",
              "      <td>0</td>\n",
              "      <td>1</td>\n",
              "    </tr>\n",
              "    <tr>\n",
              "      <th>1</th>\n",
              "      <td>0</td>\n",
              "      <td>1</td>\n",
              "      <td>0</td>\n",
              "      <td>1</td>\n",
              "      <td>1</td>\n",
              "      <td>0</td>\n",
              "      <td>1</td>\n",
              "      <td>1</td>\n",
              "      <td>1</td>\n",
              "    </tr>\n",
              "  </tbody>\n",
              "</table>\n",
              "</div>\n",
              "    <div class=\"colab-df-buttons\">\n",
              "\n",
              "  <div class=\"colab-df-container\">\n",
              "    <button class=\"colab-df-convert\" onclick=\"convertToInteractive('df-ff37102b-ea45-4050-9239-1ce42587186b')\"\n",
              "            title=\"Convert this dataframe to an interactive table.\"\n",
              "            style=\"display:none;\">\n",
              "\n",
              "  <svg xmlns=\"http://www.w3.org/2000/svg\" height=\"24px\" viewBox=\"0 -960 960 960\">\n",
              "    <path d=\"M120-120v-720h720v720H120Zm60-500h600v-160H180v160Zm220 220h160v-160H400v160Zm0 220h160v-160H400v160ZM180-400h160v-160H180v160Zm440 0h160v-160H620v160ZM180-180h160v-160H180v160Zm440 0h160v-160H620v160Z\"/>\n",
              "  </svg>\n",
              "    </button>\n",
              "\n",
              "  <style>\n",
              "    .colab-df-container {\n",
              "      display:flex;\n",
              "      gap: 12px;\n",
              "    }\n",
              "\n",
              "    .colab-df-convert {\n",
              "      background-color: #E8F0FE;\n",
              "      border: none;\n",
              "      border-radius: 50%;\n",
              "      cursor: pointer;\n",
              "      display: none;\n",
              "      fill: #1967D2;\n",
              "      height: 32px;\n",
              "      padding: 0 0 0 0;\n",
              "      width: 32px;\n",
              "    }\n",
              "\n",
              "    .colab-df-convert:hover {\n",
              "      background-color: #E2EBFA;\n",
              "      box-shadow: 0px 1px 2px rgba(60, 64, 67, 0.3), 0px 1px 3px 1px rgba(60, 64, 67, 0.15);\n",
              "      fill: #174EA6;\n",
              "    }\n",
              "\n",
              "    .colab-df-buttons div {\n",
              "      margin-bottom: 4px;\n",
              "    }\n",
              "\n",
              "    [theme=dark] .colab-df-convert {\n",
              "      background-color: #3B4455;\n",
              "      fill: #D2E3FC;\n",
              "    }\n",
              "\n",
              "    [theme=dark] .colab-df-convert:hover {\n",
              "      background-color: #434B5C;\n",
              "      box-shadow: 0px 1px 3px 1px rgba(0, 0, 0, 0.15);\n",
              "      filter: drop-shadow(0px 1px 2px rgba(0, 0, 0, 0.3));\n",
              "      fill: #FFFFFF;\n",
              "    }\n",
              "  </style>\n",
              "\n",
              "    <script>\n",
              "      const buttonEl =\n",
              "        document.querySelector('#df-ff37102b-ea45-4050-9239-1ce42587186b button.colab-df-convert');\n",
              "      buttonEl.style.display =\n",
              "        google.colab.kernel.accessAllowed ? 'block' : 'none';\n",
              "\n",
              "      async function convertToInteractive(key) {\n",
              "        const element = document.querySelector('#df-ff37102b-ea45-4050-9239-1ce42587186b');\n",
              "        const dataTable =\n",
              "          await google.colab.kernel.invokeFunction('convertToInteractive',\n",
              "                                                    [key], {});\n",
              "        if (!dataTable) return;\n",
              "\n",
              "        const docLinkHtml = 'Like what you see? Visit the ' +\n",
              "          '<a target=\"_blank\" href=https://colab.research.google.com/notebooks/data_table.ipynb>data table notebook</a>'\n",
              "          + ' to learn more about interactive tables.';\n",
              "        element.innerHTML = '';\n",
              "        dataTable['output_type'] = 'display_data';\n",
              "        await google.colab.output.renderOutput(dataTable, element);\n",
              "        const docLink = document.createElement('div');\n",
              "        docLink.innerHTML = docLinkHtml;\n",
              "        element.appendChild(docLink);\n",
              "      }\n",
              "    </script>\n",
              "  </div>\n",
              "\n",
              "\n",
              "<div id=\"df-87473b3d-b900-48c8-b6aa-dd2175e0b4bc\">\n",
              "  <button class=\"colab-df-quickchart\" onclick=\"quickchart('df-87473b3d-b900-48c8-b6aa-dd2175e0b4bc')\"\n",
              "            title=\"Suggest charts\"\n",
              "            style=\"display:none;\">\n",
              "\n",
              "<svg xmlns=\"http://www.w3.org/2000/svg\" height=\"24px\"viewBox=\"0 0 24 24\"\n",
              "     width=\"24px\">\n",
              "    <g>\n",
              "        <path d=\"M19 3H5c-1.1 0-2 .9-2 2v14c0 1.1.9 2 2 2h14c1.1 0 2-.9 2-2V5c0-1.1-.9-2-2-2zM9 17H7v-7h2v7zm4 0h-2V7h2v10zm4 0h-2v-4h2v4z\"/>\n",
              "    </g>\n",
              "</svg>\n",
              "  </button>\n",
              "\n",
              "<style>\n",
              "  .colab-df-quickchart {\n",
              "      --bg-color: #E8F0FE;\n",
              "      --fill-color: #1967D2;\n",
              "      --hover-bg-color: #E2EBFA;\n",
              "      --hover-fill-color: #174EA6;\n",
              "      --disabled-fill-color: #AAA;\n",
              "      --disabled-bg-color: #DDD;\n",
              "  }\n",
              "\n",
              "  [theme=dark] .colab-df-quickchart {\n",
              "      --bg-color: #3B4455;\n",
              "      --fill-color: #D2E3FC;\n",
              "      --hover-bg-color: #434B5C;\n",
              "      --hover-fill-color: #FFFFFF;\n",
              "      --disabled-bg-color: #3B4455;\n",
              "      --disabled-fill-color: #666;\n",
              "  }\n",
              "\n",
              "  .colab-df-quickchart {\n",
              "    background-color: var(--bg-color);\n",
              "    border: none;\n",
              "    border-radius: 50%;\n",
              "    cursor: pointer;\n",
              "    display: none;\n",
              "    fill: var(--fill-color);\n",
              "    height: 32px;\n",
              "    padding: 0;\n",
              "    width: 32px;\n",
              "  }\n",
              "\n",
              "  .colab-df-quickchart:hover {\n",
              "    background-color: var(--hover-bg-color);\n",
              "    box-shadow: 0 1px 2px rgba(60, 64, 67, 0.3), 0 1px 3px 1px rgba(60, 64, 67, 0.15);\n",
              "    fill: var(--button-hover-fill-color);\n",
              "  }\n",
              "\n",
              "  .colab-df-quickchart-complete:disabled,\n",
              "  .colab-df-quickchart-complete:disabled:hover {\n",
              "    background-color: var(--disabled-bg-color);\n",
              "    fill: var(--disabled-fill-color);\n",
              "    box-shadow: none;\n",
              "  }\n",
              "\n",
              "  .colab-df-spinner {\n",
              "    border: 2px solid var(--fill-color);\n",
              "    border-color: transparent;\n",
              "    border-bottom-color: var(--fill-color);\n",
              "    animation:\n",
              "      spin 1s steps(1) infinite;\n",
              "  }\n",
              "\n",
              "  @keyframes spin {\n",
              "    0% {\n",
              "      border-color: transparent;\n",
              "      border-bottom-color: var(--fill-color);\n",
              "      border-left-color: var(--fill-color);\n",
              "    }\n",
              "    20% {\n",
              "      border-color: transparent;\n",
              "      border-left-color: var(--fill-color);\n",
              "      border-top-color: var(--fill-color);\n",
              "    }\n",
              "    30% {\n",
              "      border-color: transparent;\n",
              "      border-left-color: var(--fill-color);\n",
              "      border-top-color: var(--fill-color);\n",
              "      border-right-color: var(--fill-color);\n",
              "    }\n",
              "    40% {\n",
              "      border-color: transparent;\n",
              "      border-right-color: var(--fill-color);\n",
              "      border-top-color: var(--fill-color);\n",
              "    }\n",
              "    60% {\n",
              "      border-color: transparent;\n",
              "      border-right-color: var(--fill-color);\n",
              "    }\n",
              "    80% {\n",
              "      border-color: transparent;\n",
              "      border-right-color: var(--fill-color);\n",
              "      border-bottom-color: var(--fill-color);\n",
              "    }\n",
              "    90% {\n",
              "      border-color: transparent;\n",
              "      border-bottom-color: var(--fill-color);\n",
              "    }\n",
              "  }\n",
              "</style>\n",
              "\n",
              "  <script>\n",
              "    async function quickchart(key) {\n",
              "      const quickchartButtonEl =\n",
              "        document.querySelector('#' + key + ' button');\n",
              "      quickchartButtonEl.disabled = true;  // To prevent multiple clicks.\n",
              "      quickchartButtonEl.classList.add('colab-df-spinner');\n",
              "      try {\n",
              "        const charts = await google.colab.kernel.invokeFunction(\n",
              "            'suggestCharts', [key], {});\n",
              "      } catch (error) {\n",
              "        console.error('Error during call to suggestCharts:', error);\n",
              "      }\n",
              "      quickchartButtonEl.classList.remove('colab-df-spinner');\n",
              "      quickchartButtonEl.classList.add('colab-df-quickchart-complete');\n",
              "    }\n",
              "    (() => {\n",
              "      let quickchartButtonEl =\n",
              "        document.querySelector('#df-87473b3d-b900-48c8-b6aa-dd2175e0b4bc button');\n",
              "      quickchartButtonEl.style.display =\n",
              "        google.colab.kernel.accessAllowed ? 'block' : 'none';\n",
              "    })();\n",
              "  </script>\n",
              "</div>\n",
              "\n",
              "    </div>\n",
              "  </div>\n"
            ],
            "application/vnd.google.colaboratory.intrinsic+json": {
              "type": "dataframe",
              "summary": "{\n  \"name\": \"df['texto']\",\n  \"rows\": 2,\n  \"fields\": [\n    {\n      \"column\": \"Transformers\",\n      \"properties\": {\n        \"dtype\": \"number\",\n        \"std\": 0,\n        \"min\": 0,\n        \"max\": 1,\n        \"num_unique_values\": 2,\n        \"samples\": [\n          0,\n          1\n        ],\n        \"semantic_type\": \"\",\n        \"description\": \"\"\n      }\n    },\n    {\n      \"column\": \"a\",\n      \"properties\": {\n        \"dtype\": \"number\",\n        \"std\": 0,\n        \"min\": 1,\n        \"max\": 1,\n        \"num_unique_values\": 1,\n        \"samples\": [\n          1\n        ],\n        \"semantic_type\": \"\",\n        \"description\": \"\"\n      }\n    },\n    {\n      \"column\": \"aprender\",\n      \"properties\": {\n        \"dtype\": \"number\",\n        \"std\": 0,\n        \"min\": 0,\n        \"max\": 1,\n        \"num_unique_values\": 2,\n        \"samples\": [\n          0\n        ],\n        \"semantic_type\": \"\",\n        \"description\": \"\"\n      }\n    },\n    {\n      \"column\": \"come\\u00e7ando\",\n      \"properties\": {\n        \"dtype\": \"number\",\n        \"std\": 0,\n        \"min\": 1,\n        \"max\": 1,\n        \"num_unique_values\": 1,\n        \"samples\": [\n          1\n        ],\n        \"semantic_type\": \"\",\n        \"description\": \"\"\n      }\n    },\n    {\n      \"column\": \"esteja\",\n      \"properties\": {\n        \"dtype\": \"number\",\n        \"std\": 0,\n        \"min\": 0,\n        \"max\": 1,\n        \"num_unique_values\": 2,\n        \"samples\": [\n          1\n        ],\n        \"semantic_type\": \"\",\n        \"description\": \"\"\n      }\n    },\n    {\n      \"column\": \"est\\u00e1\",\n      \"properties\": {\n        \"dtype\": \"number\",\n        \"std\": 0,\n        \"min\": 0,\n        \"max\": 1,\n        \"num_unique_values\": 2,\n        \"samples\": [\n          0\n        ],\n        \"semantic_type\": \"\",\n        \"description\": \"\"\n      }\n    },\n    {\n      \"column\": \"gostar\",\n      \"properties\": {\n        \"dtype\": \"number\",\n        \"std\": 0,\n        \"min\": 0,\n        \"max\": 1,\n        \"num_unique_values\": 2,\n        \"samples\": [\n          1\n        ],\n        \"semantic_type\": \"\",\n        \"description\": \"\"\n      }\n    },\n    {\n      \"column\": \"talvez\",\n      \"properties\": {\n        \"dtype\": \"number\",\n        \"std\": 0,\n        \"min\": 0,\n        \"max\": 1,\n        \"num_unique_values\": 2,\n        \"samples\": [\n          1\n        ],\n        \"semantic_type\": \"\",\n        \"description\": \"\"\n      }\n    },\n    {\n      \"column\": \"voc\\u00ea\",\n      \"properties\": {\n        \"dtype\": \"number\",\n        \"std\": 0,\n        \"min\": 1,\n        \"max\": 1,\n        \"num_unique_values\": 1,\n        \"samples\": [\n          1\n        ],\n        \"semantic_type\": \"\",\n        \"description\": \"\"\n      }\n    }\n  ]\n}"
            }
          },
          "metadata": {},
          "execution_count": 5
        }
      ]
    },
    {
      "cell_type": "markdown",
      "source": [
        "Tokenização eficiente"
      ],
      "metadata": {
        "id": "WiNdfYPCac3O"
      }
    },
    {
      "cell_type": "code",
      "source": [
        "!pip install tiktoken"
      ],
      "metadata": {
        "colab": {
          "base_uri": "https://localhost:8080/"
        },
        "id": "turpATQmaayp",
        "outputId": "2dc32460-f49c-4625-b952-12ea92054906"
      },
      "execution_count": 6,
      "outputs": [
        {
          "output_type": "stream",
          "name": "stdout",
          "text": [
            "Collecting tiktoken\n",
            "  Downloading tiktoken-0.7.0-cp310-cp310-manylinux_2_17_x86_64.manylinux2014_x86_64.whl (1.1 MB)\n",
            "\u001b[?25l     \u001b[90m━━━━━━━━━━━━━━━━━━━━━━━━━━━━━━━━━━━━━━━━\u001b[0m \u001b[32m0.0/1.1 MB\u001b[0m \u001b[31m?\u001b[0m eta \u001b[36m-:--:--\u001b[0m\r\u001b[2K     \u001b[91m━━━━━━━━━━━━━━━━━━━━━━\u001b[0m\u001b[90m╺\u001b[0m\u001b[90m━━━━━━━━━━━━━━━━━\u001b[0m \u001b[32m0.6/1.1 MB\u001b[0m \u001b[31m20.2 MB/s\u001b[0m eta \u001b[36m0:00:01\u001b[0m\r\u001b[2K     \u001b[90m━━━━━━━━━━━━━━━━━━━━━━━━━━━━━━━━━━━━━━━━\u001b[0m \u001b[32m1.1/1.1 MB\u001b[0m \u001b[31m24.8 MB/s\u001b[0m eta \u001b[36m0:00:00\u001b[0m\n",
            "\u001b[?25hRequirement already satisfied: regex>=2022.1.18 in /usr/local/lib/python3.10/dist-packages (from tiktoken) (2024.5.15)\n",
            "Requirement already satisfied: requests>=2.26.0 in /usr/local/lib/python3.10/dist-packages (from tiktoken) (2.31.0)\n",
            "Requirement already satisfied: charset-normalizer<4,>=2 in /usr/local/lib/python3.10/dist-packages (from requests>=2.26.0->tiktoken) (3.3.2)\n",
            "Requirement already satisfied: idna<4,>=2.5 in /usr/local/lib/python3.10/dist-packages (from requests>=2.26.0->tiktoken) (3.7)\n",
            "Requirement already satisfied: urllib3<3,>=1.21.1 in /usr/local/lib/python3.10/dist-packages (from requests>=2.26.0->tiktoken) (2.0.7)\n",
            "Requirement already satisfied: certifi>=2017.4.17 in /usr/local/lib/python3.10/dist-packages (from requests>=2.26.0->tiktoken) (2024.6.2)\n",
            "Installing collected packages: tiktoken\n",
            "Successfully installed tiktoken-0.7.0\n"
          ]
        }
      ]
    },
    {
      "cell_type": "code",
      "source": [
        "import tiktoken\n",
        "enc = tiktoken.get_encoding('gpt2')\n",
        "enc.encode('bom dia')"
      ],
      "metadata": {
        "colab": {
          "base_uri": "https://localhost:8080/"
        },
        "id": "VCTz7MtwalSa",
        "outputId": "b1dd790e-5695-40e2-d34b-76317c685703"
      },
      "execution_count": 7,
      "outputs": [
        {
          "output_type": "execute_result",
          "data": {
            "text/plain": [
              "[65, 296, 288, 544]"
            ]
          },
          "metadata": {},
          "execution_count": 7
        }
      ]
    },
    {
      "cell_type": "markdown",
      "source": [
        "Qual a tarefa? Compreender a proxima sequencia baseada na anterior!"
      ],
      "metadata": {
        "id": "10sTkNbLcTV1"
      }
    },
    {
      "cell_type": "code",
      "source": [
        "texto = encode(\"vamos aprender transformers\")\n",
        "len(texto)"
      ],
      "metadata": {
        "colab": {
          "base_uri": "https://localhost:8080/"
        },
        "id": "rNQ8QLj0cZlI",
        "outputId": "2d30b861-2701-499c-9e4f-91e059957530"
      },
      "execution_count": 8,
      "outputs": [
        {
          "output_type": "execute_result",
          "data": {
            "text/plain": [
              "27"
            ]
          },
          "metadata": {},
          "execution_count": 8
        }
      ]
    },
    {
      "cell_type": "markdown",
      "source": [
        "Modelo GPT"
      ],
      "metadata": {
        "id": "bgrYp7dtcuWr"
      }
    },
    {
      "cell_type": "code",
      "source": [
        "for i in range(len(texto) -1):\n",
        "  x = texto[:i]\n",
        "  y = texto[i]\n",
        "  if len(x) > 0:\n",
        "    print(f\"Quando os dados forem: {x} o alvo é {y}\")"
      ],
      "metadata": {
        "colab": {
          "base_uri": "https://localhost:8080/"
        },
        "id": "F4rjQAa_cst1",
        "outputId": "97accfee-b5c1-466e-a17d-eefc5bc92966"
      },
      "execution_count": 9,
      "outputs": [
        {
          "output_type": "stream",
          "name": "stdout",
          "text": [
            "Quando os dados forem: [13] o alvo é 2\n",
            "Quando os dados forem: [13, 2] o alvo é 6\n",
            "Quando os dados forem: [13, 2, 6] o alvo é 8\n",
            "Quando os dados forem: [13, 2, 6, 8] o alvo é 11\n",
            "Quando os dados forem: [13, 2, 6, 8, 11] o alvo é 0\n",
            "Quando os dados forem: [13, 2, 6, 8, 11, 0] o alvo é 2\n",
            "Quando os dados forem: [13, 2, 6, 8, 11, 0, 2] o alvo é 9\n",
            "Quando os dados forem: [13, 2, 6, 8, 11, 0, 2, 9] o alvo é 10\n",
            "Quando os dados forem: [13, 2, 6, 8, 11, 0, 2, 9, 10] o alvo é 4\n",
            "Quando os dados forem: [13, 2, 6, 8, 11, 0, 2, 9, 10, 4] o alvo é 7\n",
            "Quando os dados forem: [13, 2, 6, 8, 11, 0, 2, 9, 10, 4, 7] o alvo é 3\n",
            "Quando os dados forem: [13, 2, 6, 8, 11, 0, 2, 9, 10, 4, 7, 3] o alvo é 4\n",
            "Quando os dados forem: [13, 2, 6, 8, 11, 0, 2, 9, 10, 4, 7, 3, 4] o alvo é 10\n",
            "Quando os dados forem: [13, 2, 6, 8, 11, 0, 2, 9, 10, 4, 7, 3, 4, 10] o alvo é 0\n",
            "Quando os dados forem: [13, 2, 6, 8, 11, 0, 2, 9, 10, 4, 7, 3, 4, 10, 0] o alvo é 12\n",
            "Quando os dados forem: [13, 2, 6, 8, 11, 0, 2, 9, 10, 4, 7, 3, 4, 10, 0, 12] o alvo é 10\n",
            "Quando os dados forem: [13, 2, 6, 8, 11, 0, 2, 9, 10, 4, 7, 3, 4, 10, 0, 12, 10] o alvo é 2\n",
            "Quando os dados forem: [13, 2, 6, 8, 11, 0, 2, 9, 10, 4, 7, 3, 4, 10, 0, 12, 10, 2] o alvo é 7\n",
            "Quando os dados forem: [13, 2, 6, 8, 11, 0, 2, 9, 10, 4, 7, 3, 4, 10, 0, 12, 10, 2, 7] o alvo é 11\n",
            "Quando os dados forem: [13, 2, 6, 8, 11, 0, 2, 9, 10, 4, 7, 3, 4, 10, 0, 12, 10, 2, 7, 11] o alvo é 5\n",
            "Quando os dados forem: [13, 2, 6, 8, 11, 0, 2, 9, 10, 4, 7, 3, 4, 10, 0, 12, 10, 2, 7, 11, 5] o alvo é 8\n",
            "Quando os dados forem: [13, 2, 6, 8, 11, 0, 2, 9, 10, 4, 7, 3, 4, 10, 0, 12, 10, 2, 7, 11, 5, 8] o alvo é 10\n",
            "Quando os dados forem: [13, 2, 6, 8, 11, 0, 2, 9, 10, 4, 7, 3, 4, 10, 0, 12, 10, 2, 7, 11, 5, 8, 10] o alvo é 6\n",
            "Quando os dados forem: [13, 2, 6, 8, 11, 0, 2, 9, 10, 4, 7, 3, 4, 10, 0, 12, 10, 2, 7, 11, 5, 8, 10, 6] o alvo é 4\n",
            "Quando os dados forem: [13, 2, 6, 8, 11, 0, 2, 9, 10, 4, 7, 3, 4, 10, 0, 12, 10, 2, 7, 11, 5, 8, 10, 6, 4] o alvo é 10\n"
          ]
        }
      ]
    },
    {
      "cell_type": "code",
      "source": [],
      "metadata": {
        "id": "d0Sd8sBGdFMs"
      },
      "execution_count": 9,
      "outputs": []
    },
    {
      "cell_type": "markdown",
      "source": [
        "Modelo Bert"
      ],
      "metadata": {
        "id": "I_V3h3M7deF9"
      }
    },
    {
      "cell_type": "code",
      "source": [
        "from random import randint\n",
        "\n",
        "for i in range(len(texto)):\n",
        "  x = texto\n",
        "  y = texto.copy()\n",
        "  idx_mask = randint(0, len(texto) - 1)\n",
        "  y[idx_mask] = '<mask>'\n",
        "  print(f\"Quando os dados forem: {x} o alvo é {y}\")"
      ],
      "metadata": {
        "colab": {
          "base_uri": "https://localhost:8080/"
        },
        "id": "EUgzqGEudfy3",
        "outputId": "3cadb064-d176-4216-dafd-bdf2a379bdb5"
      },
      "execution_count": 10,
      "outputs": [
        {
          "output_type": "stream",
          "name": "stdout",
          "text": [
            "Quando os dados forem: [13, 2, 6, 8, 11, 0, 2, 9, 10, 4, 7, 3, 4, 10, 0, 12, 10, 2, 7, 11, 5, 8, 10, 6, 4, 10, 11] o alvo é [13, 2, 6, 8, 11, 0, 2, 9, 10, 4, 7, 3, 4, 10, 0, '<mask>', 10, 2, 7, 11, 5, 8, 10, 6, 4, 10, 11]\n",
            "Quando os dados forem: [13, 2, 6, 8, 11, 0, 2, 9, 10, 4, 7, 3, 4, 10, 0, 12, 10, 2, 7, 11, 5, 8, 10, 6, 4, 10, 11] o alvo é [13, 2, 6, 8, 11, 0, 2, 9, 10, 4, 7, 3, 4, 10, 0, 12, 10, 2, 7, '<mask>', 5, 8, 10, 6, 4, 10, 11]\n",
            "Quando os dados forem: [13, 2, 6, 8, 11, 0, 2, 9, 10, 4, 7, 3, 4, 10, 0, 12, 10, 2, 7, 11, 5, 8, 10, 6, 4, 10, 11] o alvo é [13, 2, 6, 8, 11, 0, 2, 9, 10, 4, 7, '<mask>', 4, 10, 0, 12, 10, 2, 7, 11, 5, 8, 10, 6, 4, 10, 11]\n",
            "Quando os dados forem: [13, 2, 6, 8, 11, 0, 2, 9, 10, 4, 7, 3, 4, 10, 0, 12, 10, 2, 7, 11, 5, 8, 10, 6, 4, 10, 11] o alvo é [13, 2, 6, 8, 11, 0, 2, 9, 10, 4, 7, 3, 4, 10, 0, '<mask>', 10, 2, 7, 11, 5, 8, 10, 6, 4, 10, 11]\n",
            "Quando os dados forem: [13, 2, 6, 8, 11, 0, 2, 9, 10, 4, 7, 3, 4, 10, 0, 12, 10, 2, 7, 11, 5, 8, 10, 6, 4, 10, 11] o alvo é [13, 2, 6, 8, 11, 0, 2, 9, 10, 4, 7, 3, 4, 10, 0, 12, 10, '<mask>', 7, 11, 5, 8, 10, 6, 4, 10, 11]\n",
            "Quando os dados forem: [13, 2, 6, 8, 11, 0, 2, 9, 10, 4, 7, 3, 4, 10, 0, 12, 10, 2, 7, 11, 5, 8, 10, 6, 4, 10, 11] o alvo é [13, 2, 6, 8, 11, 0, 2, '<mask>', 10, 4, 7, 3, 4, 10, 0, 12, 10, 2, 7, 11, 5, 8, 10, 6, 4, 10, 11]\n",
            "Quando os dados forem: [13, 2, 6, 8, 11, 0, 2, 9, 10, 4, 7, 3, 4, 10, 0, 12, 10, 2, 7, 11, 5, 8, 10, 6, 4, 10, 11] o alvo é [13, 2, 6, 8, 11, 0, 2, 9, '<mask>', 4, 7, 3, 4, 10, 0, 12, 10, 2, 7, 11, 5, 8, 10, 6, 4, 10, 11]\n",
            "Quando os dados forem: [13, 2, 6, 8, 11, 0, 2, 9, 10, 4, 7, 3, 4, 10, 0, 12, 10, 2, 7, 11, 5, 8, 10, 6, 4, 10, 11] o alvo é [13, 2, 6, 8, 11, 0, 2, 9, 10, 4, 7, 3, 4, 10, 0, 12, 10, 2, 7, 11, 5, 8, 10, 6, '<mask>', 10, 11]\n",
            "Quando os dados forem: [13, 2, 6, 8, 11, 0, 2, 9, 10, 4, 7, 3, 4, 10, 0, 12, 10, 2, 7, 11, 5, 8, 10, 6, 4, 10, 11] o alvo é [13, 2, 6, 8, 11, 0, 2, 9, 10, 4, 7, 3, 4, 10, 0, 12, 10, 2, 7, 11, 5, 8, 10, 6, '<mask>', 10, 11]\n",
            "Quando os dados forem: [13, 2, 6, 8, 11, 0, 2, 9, 10, 4, 7, 3, 4, 10, 0, 12, 10, 2, 7, 11, 5, 8, 10, 6, 4, 10, 11] o alvo é [13, 2, 6, 8, 11, 0, 2, 9, 10, 4, 7, 3, 4, 10, 0, 12, 10, 2, 7, 11, 5, 8, 10, 6, 4, '<mask>', 11]\n",
            "Quando os dados forem: [13, 2, 6, 8, 11, 0, 2, 9, 10, 4, 7, 3, 4, 10, 0, 12, 10, 2, 7, 11, 5, 8, 10, 6, 4, 10, 11] o alvo é [13, 2, 6, 8, 11, 0, 2, 9, 10, 4, 7, 3, 4, 10, '<mask>', 12, 10, 2, 7, 11, 5, 8, 10, 6, 4, 10, 11]\n",
            "Quando os dados forem: [13, 2, 6, 8, 11, 0, 2, 9, 10, 4, 7, 3, 4, 10, 0, 12, 10, 2, 7, 11, 5, 8, 10, 6, 4, 10, 11] o alvo é [13, 2, 6, 8, 11, 0, 2, 9, 10, 4, 7, 3, 4, 10, 0, 12, 10, 2, 7, 11, 5, 8, 10, 6, 4, '<mask>', 11]\n",
            "Quando os dados forem: [13, 2, 6, 8, 11, 0, 2, 9, 10, 4, 7, 3, 4, 10, 0, 12, 10, 2, 7, 11, 5, 8, 10, 6, 4, 10, 11] o alvo é [13, 2, 6, 8, 11, 0, 2, 9, '<mask>', 4, 7, 3, 4, 10, 0, 12, 10, 2, 7, 11, 5, 8, 10, 6, 4, 10, 11]\n",
            "Quando os dados forem: [13, 2, 6, 8, 11, 0, 2, 9, 10, 4, 7, 3, 4, 10, 0, 12, 10, 2, 7, 11, 5, 8, 10, 6, 4, 10, 11] o alvo é [13, 2, 6, 8, 11, 0, 2, 9, 10, 4, 7, 3, 4, 10, 0, 12, 10, 2, 7, 11, 5, 8, 10, 6, 4, 10, '<mask>']\n",
            "Quando os dados forem: [13, 2, 6, 8, 11, 0, 2, 9, 10, 4, 7, 3, 4, 10, 0, 12, 10, 2, 7, 11, 5, 8, 10, 6, 4, 10, 11] o alvo é [13, 2, 6, 8, 11, '<mask>', 2, 9, 10, 4, 7, 3, 4, 10, 0, 12, 10, 2, 7, 11, 5, 8, 10, 6, 4, 10, 11]\n",
            "Quando os dados forem: [13, 2, 6, 8, 11, 0, 2, 9, 10, 4, 7, 3, 4, 10, 0, 12, 10, 2, 7, 11, 5, 8, 10, 6, 4, 10, 11] o alvo é [13, 2, 6, 8, '<mask>', 0, 2, 9, 10, 4, 7, 3, 4, 10, 0, 12, 10, 2, 7, 11, 5, 8, 10, 6, 4, 10, 11]\n",
            "Quando os dados forem: [13, 2, 6, 8, 11, 0, 2, 9, 10, 4, 7, 3, 4, 10, 0, 12, 10, 2, 7, 11, 5, 8, 10, 6, 4, 10, 11] o alvo é [13, 2, 6, 8, 11, 0, 2, 9, 10, 4, 7, 3, 4, 10, 0, 12, 10, 2, '<mask>', 11, 5, 8, 10, 6, 4, 10, 11]\n",
            "Quando os dados forem: [13, 2, 6, 8, 11, 0, 2, 9, 10, 4, 7, 3, 4, 10, 0, 12, 10, 2, 7, 11, 5, 8, 10, 6, 4, 10, 11] o alvo é [13, 2, 6, 8, 11, 0, 2, 9, 10, 4, 7, 3, '<mask>', 10, 0, 12, 10, 2, 7, 11, 5, 8, 10, 6, 4, 10, 11]\n",
            "Quando os dados forem: [13, 2, 6, 8, 11, 0, 2, 9, 10, 4, 7, 3, 4, 10, 0, 12, 10, 2, 7, 11, 5, 8, 10, 6, 4, 10, 11] o alvo é [13, 2, 6, 8, 11, 0, 2, 9, 10, 4, 7, 3, 4, 10, 0, 12, '<mask>', 2, 7, 11, 5, 8, 10, 6, 4, 10, 11]\n",
            "Quando os dados forem: [13, 2, 6, 8, 11, 0, 2, 9, 10, 4, 7, 3, 4, 10, 0, 12, 10, 2, 7, 11, 5, 8, 10, 6, 4, 10, 11] o alvo é [13, 2, 6, 8, 11, 0, 2, 9, 10, 4, 7, 3, 4, 10, 0, '<mask>', 10, 2, 7, 11, 5, 8, 10, 6, 4, 10, 11]\n",
            "Quando os dados forem: [13, 2, 6, 8, 11, 0, 2, 9, 10, 4, 7, 3, 4, 10, 0, 12, 10, 2, 7, 11, 5, 8, 10, 6, 4, 10, 11] o alvo é [13, 2, 6, 8, 11, 0, 2, 9, 10, 4, 7, 3, 4, '<mask>', 0, 12, 10, 2, 7, 11, 5, 8, 10, 6, 4, 10, 11]\n",
            "Quando os dados forem: [13, 2, 6, 8, 11, 0, 2, 9, 10, 4, 7, 3, 4, 10, 0, 12, 10, 2, 7, 11, 5, 8, 10, 6, 4, 10, 11] o alvo é [13, 2, 6, 8, '<mask>', 0, 2, 9, 10, 4, 7, 3, 4, 10, 0, 12, 10, 2, 7, 11, 5, 8, 10, 6, 4, 10, 11]\n",
            "Quando os dados forem: [13, 2, 6, 8, 11, 0, 2, 9, 10, 4, 7, 3, 4, 10, 0, 12, 10, 2, 7, 11, 5, 8, 10, 6, 4, 10, 11] o alvo é [13, 2, 6, 8, 11, 0, 2, 9, '<mask>', 4, 7, 3, 4, 10, 0, 12, 10, 2, 7, 11, 5, 8, 10, 6, 4, 10, 11]\n",
            "Quando os dados forem: [13, 2, 6, 8, 11, 0, 2, 9, 10, 4, 7, 3, 4, 10, 0, 12, 10, 2, 7, 11, 5, 8, 10, 6, 4, 10, 11] o alvo é [13, 2, 6, 8, 11, 0, 2, 9, 10, 4, 7, 3, 4, 10, 0, 12, 10, 2, '<mask>', 11, 5, 8, 10, 6, 4, 10, 11]\n",
            "Quando os dados forem: [13, 2, 6, 8, 11, 0, 2, 9, 10, 4, 7, 3, 4, 10, 0, 12, 10, 2, 7, 11, 5, 8, 10, 6, 4, 10, 11] o alvo é [13, 2, 6, 8, 11, 0, 2, 9, 10, 4, 7, 3, 4, 10, 0, 12, 10, 2, 7, 11, '<mask>', 8, 10, 6, 4, 10, 11]\n",
            "Quando os dados forem: [13, 2, 6, 8, 11, 0, 2, 9, 10, 4, 7, 3, 4, 10, 0, 12, 10, 2, 7, 11, 5, 8, 10, 6, 4, 10, 11] o alvo é [13, 2, 6, '<mask>', 11, 0, 2, 9, 10, 4, 7, 3, 4, 10, 0, 12, 10, 2, 7, 11, 5, 8, 10, 6, 4, 10, 11]\n",
            "Quando os dados forem: [13, 2, 6, 8, 11, 0, 2, 9, 10, 4, 7, 3, 4, 10, 0, 12, 10, 2, 7, 11, 5, 8, 10, 6, 4, 10, 11] o alvo é [13, 2, '<mask>', 8, 11, 0, 2, 9, 10, 4, 7, 3, 4, 10, 0, 12, 10, 2, 7, 11, 5, 8, 10, 6, 4, 10, 11]\n"
          ]
        }
      ]
    },
    {
      "cell_type": "markdown",
      "source": [
        "Criando um tokenizer"
      ],
      "metadata": {
        "id": "KJGdV3eXkXmF"
      }
    },
    {
      "cell_type": "code",
      "source": [
        "!pip install transformers[torch]"
      ],
      "metadata": {
        "colab": {
          "base_uri": "https://localhost:8080/"
        },
        "id": "w_umO27dkaNH",
        "outputId": "cccc6cf7-f4b5-453b-c178-21d8b993f26e"
      },
      "execution_count": 11,
      "outputs": [
        {
          "output_type": "stream",
          "name": "stdout",
          "text": [
            "Requirement already satisfied: transformers[torch] in /usr/local/lib/python3.10/dist-packages (4.41.2)\n",
            "Requirement already satisfied: filelock in /usr/local/lib/python3.10/dist-packages (from transformers[torch]) (3.14.0)\n",
            "Requirement already satisfied: huggingface-hub<1.0,>=0.23.0 in /usr/local/lib/python3.10/dist-packages (from transformers[torch]) (0.23.3)\n",
            "Requirement already satisfied: numpy>=1.17 in /usr/local/lib/python3.10/dist-packages (from transformers[torch]) (1.25.2)\n",
            "Requirement already satisfied: packaging>=20.0 in /usr/local/lib/python3.10/dist-packages (from transformers[torch]) (24.1)\n",
            "Requirement already satisfied: pyyaml>=5.1 in /usr/local/lib/python3.10/dist-packages (from transformers[torch]) (6.0.1)\n",
            "Requirement already satisfied: regex!=2019.12.17 in /usr/local/lib/python3.10/dist-packages (from transformers[torch]) (2024.5.15)\n",
            "Requirement already satisfied: requests in /usr/local/lib/python3.10/dist-packages (from transformers[torch]) (2.31.0)\n",
            "Requirement already satisfied: tokenizers<0.20,>=0.19 in /usr/local/lib/python3.10/dist-packages (from transformers[torch]) (0.19.1)\n",
            "Requirement already satisfied: safetensors>=0.4.1 in /usr/local/lib/python3.10/dist-packages (from transformers[torch]) (0.4.3)\n",
            "Requirement already satisfied: tqdm>=4.27 in /usr/local/lib/python3.10/dist-packages (from transformers[torch]) (4.66.4)\n",
            "Requirement already satisfied: torch in /usr/local/lib/python3.10/dist-packages (from transformers[torch]) (2.3.0+cu121)\n",
            "Collecting accelerate>=0.21.0 (from transformers[torch])\n",
            "  Downloading accelerate-0.31.0-py3-none-any.whl (309 kB)\n",
            "\u001b[2K     \u001b[90m━━━━━━━━━━━━━━━━━━━━━━━━━━━━━━━━━━━━━━━━\u001b[0m \u001b[32m309.4/309.4 kB\u001b[0m \u001b[31m9.2 MB/s\u001b[0m eta \u001b[36m0:00:00\u001b[0m\n",
            "\u001b[?25hRequirement already satisfied: psutil in /usr/local/lib/python3.10/dist-packages (from accelerate>=0.21.0->transformers[torch]) (5.9.5)\n",
            "Requirement already satisfied: fsspec>=2023.5.0 in /usr/local/lib/python3.10/dist-packages (from huggingface-hub<1.0,>=0.23.0->transformers[torch]) (2023.6.0)\n",
            "Requirement already satisfied: typing-extensions>=3.7.4.3 in /usr/local/lib/python3.10/dist-packages (from huggingface-hub<1.0,>=0.23.0->transformers[torch]) (4.12.2)\n",
            "Requirement already satisfied: sympy in /usr/local/lib/python3.10/dist-packages (from torch->transformers[torch]) (1.12.1)\n",
            "Requirement already satisfied: networkx in /usr/local/lib/python3.10/dist-packages (from torch->transformers[torch]) (3.3)\n",
            "Requirement already satisfied: jinja2 in /usr/local/lib/python3.10/dist-packages (from torch->transformers[torch]) (3.1.4)\n",
            "Collecting nvidia-cuda-nvrtc-cu12==12.1.105 (from torch->transformers[torch])\n",
            "  Using cached nvidia_cuda_nvrtc_cu12-12.1.105-py3-none-manylinux1_x86_64.whl (23.7 MB)\n",
            "Collecting nvidia-cuda-runtime-cu12==12.1.105 (from torch->transformers[torch])\n",
            "  Using cached nvidia_cuda_runtime_cu12-12.1.105-py3-none-manylinux1_x86_64.whl (823 kB)\n",
            "Collecting nvidia-cuda-cupti-cu12==12.1.105 (from torch->transformers[torch])\n",
            "  Using cached nvidia_cuda_cupti_cu12-12.1.105-py3-none-manylinux1_x86_64.whl (14.1 MB)\n",
            "Collecting nvidia-cudnn-cu12==8.9.2.26 (from torch->transformers[torch])\n",
            "  Using cached nvidia_cudnn_cu12-8.9.2.26-py3-none-manylinux1_x86_64.whl (731.7 MB)\n",
            "Collecting nvidia-cublas-cu12==12.1.3.1 (from torch->transformers[torch])\n",
            "  Using cached nvidia_cublas_cu12-12.1.3.1-py3-none-manylinux1_x86_64.whl (410.6 MB)\n",
            "Collecting nvidia-cufft-cu12==11.0.2.54 (from torch->transformers[torch])\n",
            "  Using cached nvidia_cufft_cu12-11.0.2.54-py3-none-manylinux1_x86_64.whl (121.6 MB)\n",
            "Collecting nvidia-curand-cu12==10.3.2.106 (from torch->transformers[torch])\n",
            "  Using cached nvidia_curand_cu12-10.3.2.106-py3-none-manylinux1_x86_64.whl (56.5 MB)\n",
            "Collecting nvidia-cusolver-cu12==11.4.5.107 (from torch->transformers[torch])\n",
            "  Using cached nvidia_cusolver_cu12-11.4.5.107-py3-none-manylinux1_x86_64.whl (124.2 MB)\n",
            "Collecting nvidia-cusparse-cu12==12.1.0.106 (from torch->transformers[torch])\n",
            "  Using cached nvidia_cusparse_cu12-12.1.0.106-py3-none-manylinux1_x86_64.whl (196.0 MB)\n",
            "Collecting nvidia-nccl-cu12==2.20.5 (from torch->transformers[torch])\n",
            "  Using cached nvidia_nccl_cu12-2.20.5-py3-none-manylinux2014_x86_64.whl (176.2 MB)\n",
            "Collecting nvidia-nvtx-cu12==12.1.105 (from torch->transformers[torch])\n",
            "  Using cached nvidia_nvtx_cu12-12.1.105-py3-none-manylinux1_x86_64.whl (99 kB)\n",
            "Requirement already satisfied: triton==2.3.0 in /usr/local/lib/python3.10/dist-packages (from torch->transformers[torch]) (2.3.0)\n",
            "Collecting nvidia-nvjitlink-cu12 (from nvidia-cusolver-cu12==11.4.5.107->torch->transformers[torch])\n",
            "  Downloading nvidia_nvjitlink_cu12-12.5.40-py3-none-manylinux2014_x86_64.whl (21.3 MB)\n",
            "\u001b[2K     \u001b[90m━━━━━━━━━━━━━━━━━━━━━━━━━━━━━━━━━━━━━━━━\u001b[0m \u001b[32m21.3/21.3 MB\u001b[0m \u001b[31m63.4 MB/s\u001b[0m eta \u001b[36m0:00:00\u001b[0m\n",
            "\u001b[?25hRequirement already satisfied: charset-normalizer<4,>=2 in /usr/local/lib/python3.10/dist-packages (from requests->transformers[torch]) (3.3.2)\n",
            "Requirement already satisfied: idna<4,>=2.5 in /usr/local/lib/python3.10/dist-packages (from requests->transformers[torch]) (3.7)\n",
            "Requirement already satisfied: urllib3<3,>=1.21.1 in /usr/local/lib/python3.10/dist-packages (from requests->transformers[torch]) (2.0.7)\n",
            "Requirement already satisfied: certifi>=2017.4.17 in /usr/local/lib/python3.10/dist-packages (from requests->transformers[torch]) (2024.6.2)\n",
            "Requirement already satisfied: MarkupSafe>=2.0 in /usr/local/lib/python3.10/dist-packages (from jinja2->torch->transformers[torch]) (2.1.5)\n",
            "Requirement already satisfied: mpmath<1.4.0,>=1.1.0 in /usr/local/lib/python3.10/dist-packages (from sympy->torch->transformers[torch]) (1.3.0)\n",
            "Installing collected packages: nvidia-nvtx-cu12, nvidia-nvjitlink-cu12, nvidia-nccl-cu12, nvidia-curand-cu12, nvidia-cufft-cu12, nvidia-cuda-runtime-cu12, nvidia-cuda-nvrtc-cu12, nvidia-cuda-cupti-cu12, nvidia-cublas-cu12, nvidia-cusparse-cu12, nvidia-cudnn-cu12, nvidia-cusolver-cu12, accelerate\n",
            "Successfully installed accelerate-0.31.0 nvidia-cublas-cu12-12.1.3.1 nvidia-cuda-cupti-cu12-12.1.105 nvidia-cuda-nvrtc-cu12-12.1.105 nvidia-cuda-runtime-cu12-12.1.105 nvidia-cudnn-cu12-8.9.2.26 nvidia-cufft-cu12-11.0.2.54 nvidia-curand-cu12-10.3.2.106 nvidia-cusolver-cu12-11.4.5.107 nvidia-cusparse-cu12-12.1.0.106 nvidia-nccl-cu12-2.20.5 nvidia-nvjitlink-cu12-12.5.40 nvidia-nvtx-cu12-12.1.105\n"
          ]
        }
      ]
    },
    {
      "cell_type": "code",
      "source": [
        "!wget -O ./sample_data/crepusculoDosIdolos.txt https://raw.githubusercontent.com/mfmarlonferrari/NietzscheLLM/main/crepusculoDosIdolos.txt\n"
      ],
      "metadata": {
        "id": "FURIBnKtkhss",
        "colab": {
          "base_uri": "https://localhost:8080/"
        },
        "outputId": "534f11f2-255c-4386-c8b3-4e8d04f5122e"
      },
      "execution_count": 12,
      "outputs": [
        {
          "output_type": "stream",
          "name": "stdout",
          "text": [
            "--2024-06-15 17:22:34--  https://raw.githubusercontent.com/mfmarlonferrari/NietzscheLLM/main/crepusculoDosIdolos.txt\n",
            "Resolving raw.githubusercontent.com (raw.githubusercontent.com)... 185.199.108.133, 185.199.109.133, 185.199.110.133, ...\n",
            "Connecting to raw.githubusercontent.com (raw.githubusercontent.com)|185.199.108.133|:443... connected.\n",
            "HTTP request sent, awaiting response... 200 OK\n",
            "Length: 162098 (158K) [text/plain]\n",
            "Saving to: ‘./sample_data/crepusculoDosIdolos.txt’\n",
            "\n",
            "./sample_data/crepu 100%[===================>] 158.30K  --.-KB/s    in 0.02s   \n",
            "\n",
            "2024-06-15 17:22:34 (6.92 MB/s) - ‘./sample_data/crepusculoDosIdolos.txt’ saved [162098/162098]\n",
            "\n"
          ]
        }
      ]
    },
    {
      "cell_type": "code",
      "source": [
        "PATH = './sample_data/'\n",
        "dados_treino = 'crepusculoDosIdolos.txt'\n"
      ],
      "metadata": {
        "id": "-yUSxzEloI1i"
      },
      "execution_count": 13,
      "outputs": []
    },
    {
      "cell_type": "code",
      "source": [
        "from tokenizers import ByteLevelBPETokenizer\n",
        "\n",
        "tokenizer = ByteLevelBPETokenizer()\n",
        "tokenizer.train(files=PATH + dados_treino, vocab_size=50000, min_frequency=2,\n",
        "                special_tokens=['<s>', '<pad>', '</s>', '<unk>', '<mask>'])\n"
      ],
      "metadata": {
        "id": "8LvYTdWPxowl"
      },
      "execution_count": 14,
      "outputs": []
    },
    {
      "cell_type": "code",
      "source": [
        "tokenizer.encode(\"Hoje é um novo dia\").ids"
      ],
      "metadata": {
        "colab": {
          "base_uri": "https://localhost:8080/"
        },
        "id": "5eVC3YqfyPaC",
        "outputId": "41020aa1-279a-4443-a512-e9ab06d9a3c2"
      },
      "execution_count": 15,
      "outputs": [
        {
          "output_type": "execute_result",
          "data": {
            "text/plain": [
              "[44, 83, 570, 306, 300, 1714, 556]"
            ]
          },
          "metadata": {},
          "execution_count": 15
        }
      ]
    },
    {
      "cell_type": "code",
      "source": [
        "tokenizer.decode(tokenizer.encode(\"Hoje é um novo dia\").ids)"
      ],
      "metadata": {
        "colab": {
          "base_uri": "https://localhost:8080/",
          "height": 35
        },
        "id": "uhd9dIr_yihQ",
        "outputId": "25ca4f69-0a01-49c7-f14f-2a0c906e2fcd"
      },
      "execution_count": 16,
      "outputs": [
        {
          "output_type": "execute_result",
          "data": {
            "text/plain": [
              "'Hoje é um novo dia'"
            ],
            "application/vnd.google.colaboratory.intrinsic+json": {
              "type": "string"
            }
          },
          "metadata": {},
          "execution_count": 16
        }
      ]
    },
    {
      "cell_type": "code",
      "source": [
        "\n",
        "!mkdir ./sample_data/RAW_MODEL\n",
        "tokenizer.save_model('./sample_data/RAW_MODEL')"
      ],
      "metadata": {
        "colab": {
          "base_uri": "https://localhost:8080/"
        },
        "id": "8dYNDLXmyp4w",
        "outputId": "ef7ac6dc-7aa9-416c-86a6-bb052c37f999"
      },
      "execution_count": 18,
      "outputs": [
        {
          "output_type": "stream",
          "name": "stdout",
          "text": [
            "mkdir: cannot create directory ‘./sample_data/RAW_MODEL’: File exists\n"
          ]
        },
        {
          "output_type": "execute_result",
          "data": {
            "text/plain": [
              "['./sample_data/RAW_MODEL/vocab.json', './sample_data/RAW_MODEL/merges.txt']"
            ]
          },
          "metadata": {},
          "execution_count": 18
        }
      ]
    },
    {
      "cell_type": "markdown",
      "source": [
        "Construindo nosso tokenizer"
      ],
      "metadata": {
        "id": "l-z5jeV9zjSH"
      }
    },
    {
      "cell_type": "code",
      "source": [
        "# Criando um tokenizer\n",
        "\n",
        "from transformers import RobertaTokenizer\n",
        "\n",
        "tokenizer = RobertaTokenizer.from_pretrained('./sample_data/RAW_MODEL', max_len=512)"
      ],
      "metadata": {
        "id": "XFO2qyiozpaS"
      },
      "execution_count": 19,
      "outputs": []
    },
    {
      "cell_type": "markdown",
      "source": [
        "Criando nosso transformer"
      ],
      "metadata": {
        "id": "sD3wsJ7F0--Y"
      }
    },
    {
      "cell_type": "code",
      "source": [
        "from transformers import RobertaConfig\n",
        "\n",
        "config = RobertaConfig(vocab_size=50000, max_position_embeddings=514, num_attention_heads=12, num_hidden_layers=6, type_vocab_size=1)\n",
        "\n",
        "from transformers import RobertaForMaskedLM\n",
        "\n",
        "model = RobertaForMaskedLM(config=config)"
      ],
      "metadata": {
        "id": "DDbt4vcx1DCn"
      },
      "execution_count": 20,
      "outputs": []
    },
    {
      "cell_type": "code",
      "source": [
        "# quantos parametros tem nossa rede neural\n",
        "model.num_parameters()"
      ],
      "metadata": {
        "colab": {
          "base_uri": "https://localhost:8080/"
        },
        "id": "e7n9G4DI3QM-",
        "outputId": "ecbae833-8caf-4009-9e9c-e743dfbe42be"
      },
      "execution_count": 21,
      "outputs": [
        {
          "output_type": "execute_result",
          "data": {
            "text/plain": [
              "81966416"
            ]
          },
          "metadata": {},
          "execution_count": 21
        }
      ]
    },
    {
      "cell_type": "markdown",
      "source": [
        "Criando nosso Dataset tokenizado"
      ],
      "metadata": {
        "id": "mDdrmGhv3o84"
      }
    },
    {
      "cell_type": "code",
      "source": [
        "# Forma simples de se carregar um arquivo bruto como dataset\n",
        "from transformers import LineByLineTextDataset\n",
        "\n",
        "dataset = LineByLineTextDataset(\n",
        "    tokenizer=tokenizer,\n",
        "    file_path=PATH + dados_treino,\n",
        "    block_size=128\n",
        ")"
      ],
      "metadata": {
        "id": "rg_1kbkK3t0N",
        "colab": {
          "base_uri": "https://localhost:8080/"
        },
        "outputId": "4f6a234e-de58-4840-c203-5823ac78e712"
      },
      "execution_count": 22,
      "outputs": [
        {
          "output_type": "stream",
          "name": "stderr",
          "text": [
            "/usr/local/lib/python3.10/dist-packages/transformers/data/datasets/language_modeling.py:119: FutureWarning: This dataset will be removed from the library soon, preprocessing should be handled with the 🤗 Datasets library. You can have a look at this example script for pointers: https://github.com/huggingface/transformers/blob/main/examples/pytorch/language-modeling/run_mlm.py\n",
            "  warnings.warn(\n"
          ]
        }
      ]
    },
    {
      "cell_type": "code",
      "source": [
        "dataset.examples[0]"
      ],
      "metadata": {
        "colab": {
          "base_uri": "https://localhost:8080/"
        },
        "id": "sStfpZGW4INC",
        "outputId": "8c1b0366-0a71-4db7-d97b-691c1ee0f54d"
      },
      "execution_count": 23,
      "outputs": [
        {
          "output_type": "execute_result",
          "data": {
            "text/plain": [
              "{'input_ids': tensor([   0,   69,  276, 1154,  341,  306,  277,  273,   73,  271,  446, 1058,\n",
              "           18,  352,   35, 1155,  262, 1058,  300,  527, 2240,   35,    2])}"
            ]
          },
          "metadata": {},
          "execution_count": 23
        }
      ]
    },
    {
      "cell_type": "code",
      "source": [
        "tokenizer.decode(dataset.examples[0]['input_ids'])"
      ],
      "metadata": {
        "colab": {
          "base_uri": "https://localhost:8080/",
          "height": 35
        },
        "id": "wN1rRApI4ReD",
        "outputId": "15737a68-8a63-4440-f1dc-d38fe6597ae3"
      },
      "execution_count": 24,
      "outputs": [
        {
          "output_type": "execute_result",
          "data": {
            "text/plain": [
              "'<s>a ociosidade é mãe de toda psicologia. como? seria a psicologia um... vício?</s>'"
            ],
            "application/vnd.google.colaboratory.intrinsic+json": {
              "type": "string"
            }
          },
          "metadata": {},
          "execution_count": 24
        }
      ]
    },
    {
      "cell_type": "markdown",
      "source": [
        "Trainando o modelo"
      ],
      "metadata": {
        "id": "wmvTKEsU4uFa"
      }
    },
    {
      "cell_type": "code",
      "source": [
        "'''\n",
        "Data Collators são estratégias de se construir lotes de dados\n",
        "para treinar o modelo. Cria listas de amostras a partir do dataset e\n",
        "permite que o Pytorch aplique a backpropagation adequadamente.\n",
        "Probability = probabilidade de mascarar tokens da entrada\n",
        "'''\n",
        "from transformers import DataCollatorForLanguageModeling\n",
        "\n",
        "data_collator = DataCollatorForLanguageModeling(\n",
        "    tokenizer=tokenizer, mlm=True, mlm_probability=0.1\n",
        ")"
      ],
      "metadata": {
        "id": "JW4xtcvD4wXd"
      },
      "execution_count": 25,
      "outputs": []
    },
    {
      "cell_type": "code",
      "source": [
        "from transformers import Trainer, TrainingArguments\n",
        "\n",
        "training_args = TrainingArguments(\n",
        "    output_dir='./sample_data/RAW_MODEL',\n",
        "    overwrite_output_dir=True,\n",
        "    num_train_epochs=1200,\n",
        "    per_device_train_batch_size=64,\n",
        "    save_steps=1000,\n",
        "    save_total_limit=2,\n",
        "    prediction_loss_only=True\n",
        ")\n",
        "\n",
        "trainer = Trainer(\n",
        "    model=model,\n",
        "    args=training_args,\n",
        "    data_collator=data_collator,\n",
        "    train_dataset=dataset\n",
        ")\n"
      ],
      "metadata": {
        "id": "2AVRX2LF5M-N"
      },
      "execution_count": 26,
      "outputs": []
    },
    {
      "cell_type": "code",
      "source": [
        "trainer.train()"
      ],
      "metadata": {
        "id": "DJGKmpIj5wK9",
        "colab": {
          "base_uri": "https://localhost:8080/",
          "height": 688
        },
        "outputId": "097cc1d7-25cd-4af6-e0d8-aa0d4496c55d"
      },
      "execution_count": 27,
      "outputs": [
        {
          "data": {
            "text/html": [
              "\n",
              "    <div>\n",
              "      \n",
              "      <progress value='3939' max='4800' style='width:300px; height:20px; vertical-align: middle;'></progress>\n",
              "      [3939/4800 33:06 < 07:14, 1.98 it/s, Epoch 984.50/1200]\n",
              "    </div>\n",
              "    <table border=\"1\" class=\"dataframe\">\n",
              "  <thead>\n",
              " <tr style=\"text-align: left;\">\n",
              "      <th>Step</th>\n",
              "      <th>Training Loss</th>\n",
              "    </tr>\n",
              "  </thead>\n",
              "  <tbody>\n",
              "    <tr>\n",
              "      <td>500</td>\n",
              "      <td>6.518100</td>\n",
              "    </tr>\n",
              "    <tr>\n",
              "      <td>1000</td>\n",
              "      <td>5.217500</td>\n",
              "    </tr>\n",
              "    <tr>\n",
              "      <td>1500</td>\n",
              "      <td>4.201600</td>\n",
              "    </tr>\n",
              "    <tr>\n",
              "      <td>2000</td>\n",
              "      <td>3.205900</td>\n",
              "    </tr>\n",
              "    <tr>\n",
              "      <td>2500</td>\n",
              "      <td>2.354200</td>\n",
              "    </tr>\n",
              "    <tr>\n",
              "      <td>3000</td>\n",
              "      <td>1.671500</td>\n",
              "    </tr>\n",
              "    <tr>\n",
              "      <td>3500</td>\n",
              "      <td>1.192600</td>\n",
              "    </tr>\n",
              "  </tbody>\n",
              "</table><p>"
            ],
            "text/plain": [
              "<IPython.core.display.HTML object>"
            ]
          },
          "metadata": {},
          "output_type": "display_data"
        },
        {
          "output_type": "display_data",
          "data": {
            "text/plain": [
              "<IPython.core.display.HTML object>"
            ],
            "text/html": [
              "\n",
              "    <div>\n",
              "      \n",
              "      <progress value='4800' max='4800' style='width:300px; height:20px; vertical-align: middle;'></progress>\n",
              "      [4800/4800 40:23, Epoch 1200/1200]\n",
              "    </div>\n",
              "    <table border=\"1\" class=\"dataframe\">\n",
              "  <thead>\n",
              " <tr style=\"text-align: left;\">\n",
              "      <th>Step</th>\n",
              "      <th>Training Loss</th>\n",
              "    </tr>\n",
              "  </thead>\n",
              "  <tbody>\n",
              "    <tr>\n",
              "      <td>500</td>\n",
              "      <td>6.518100</td>\n",
              "    </tr>\n",
              "    <tr>\n",
              "      <td>1000</td>\n",
              "      <td>5.217500</td>\n",
              "    </tr>\n",
              "    <tr>\n",
              "      <td>1500</td>\n",
              "      <td>4.201600</td>\n",
              "    </tr>\n",
              "    <tr>\n",
              "      <td>2000</td>\n",
              "      <td>3.205900</td>\n",
              "    </tr>\n",
              "    <tr>\n",
              "      <td>2500</td>\n",
              "      <td>2.354200</td>\n",
              "    </tr>\n",
              "    <tr>\n",
              "      <td>3000</td>\n",
              "      <td>1.671500</td>\n",
              "    </tr>\n",
              "    <tr>\n",
              "      <td>3500</td>\n",
              "      <td>1.192600</td>\n",
              "    </tr>\n",
              "    <tr>\n",
              "      <td>4000</td>\n",
              "      <td>0.884200</td>\n",
              "    </tr>\n",
              "    <tr>\n",
              "      <td>4500</td>\n",
              "      <td>0.712000</td>\n",
              "    </tr>\n",
              "  </tbody>\n",
              "</table><p>"
            ]
          },
          "metadata": {}
        },
        {
          "output_type": "execute_result",
          "data": {
            "text/plain": [
              "TrainOutput(global_step=4800, training_loss=2.7443792470296224, metrics={'train_runtime': 2424.7751, 'train_samples_per_second': 111.845, 'train_steps_per_second': 1.98, 'total_flos': 8991703292313600.0, 'train_loss': 2.7443792470296224, 'epoch': 1200.0})"
            ]
          },
          "metadata": {},
          "execution_count": 27
        }
      ]
    },
    {
      "cell_type": "code",
      "source": [
        "trainer.save_model('./sample_data/RAW_MODEL')"
      ],
      "metadata": {
        "id": "0tN-XimtNVtU"
      },
      "execution_count": 28,
      "outputs": []
    },
    {
      "cell_type": "code",
      "source": [
        "from transformers import pipeline\n",
        "\n",
        "fill_mask = pipeline(\n",
        "    'fill-mask',\n",
        "    model='./sample_data/RAW_MODEL',\n",
        "    tokenizer='./sample_data/RAW_MODEL'\n",
        ")\n"
      ],
      "metadata": {
        "id": "m2VStjr8M5lW"
      },
      "execution_count": 29,
      "outputs": []
    },
    {
      "cell_type": "code",
      "source": [
        "texto = 'Digo que o amor é <mask>'\n",
        "fill_mask(texto)"
      ],
      "metadata": {
        "colab": {
          "base_uri": "https://localhost:8080/"
        },
        "id": "Ff_-R7ZsNnD2",
        "outputId": "a9864d45-106d-480a-aaa5-40776fd86d59"
      },
      "execution_count": 32,
      "outputs": [
        {
          "output_type": "execute_result",
          "data": {
            "text/plain": [
              "[{'score': 0.08734633773565292,\n",
              "  'token': 18,\n",
              "  'token_str': '.',\n",
              "  'sequence': 'Digo que o amor é.'},\n",
              " {'score': 0.03558439016342163,\n",
              "  'token': 521,\n",
              "  'token_str': ' até',\n",
              "  'sequence': 'Digo que o amor é até'},\n",
              " {'score': 0.0303444005548954,\n",
              "  'token': 271,\n",
              "  'token_str': ' de',\n",
              "  'sequence': 'Digo que o amor é de'},\n",
              " {'score': 0.02386217564344406,\n",
              "  'token': 13,\n",
              "  'token_str': ')',\n",
              "  'sequence': 'Digo que o amor é)'},\n",
              " {'score': 0.022865161299705505,\n",
              "  'token': 726,\n",
              "  'token_str': ' sócrates',\n",
              "  'sequence': 'Digo que o amor é sócrates'}]"
            ]
          },
          "metadata": {},
          "execution_count": 32
        }
      ]
    },
    {
      "cell_type": "code",
      "source": [
        "texto = 'O <mask> da moral: basear na lógica dos fracos'\n",
        "fill_mask(texto)"
      ],
      "metadata": {
        "colab": {
          "base_uri": "https://localhost:8080/"
        },
        "id": "qtyTgo7FOO8G",
        "outputId": "adc08c2f-3b1f-4647-b6e1-56f08164569c"
      },
      "execution_count": 33,
      "outputs": [
        {
          "output_type": "execute_result",
          "data": {
            "text/plain": [
              "[{'score': 0.2198890745639801,\n",
              "  'token': 480,\n",
              "  'token_str': ' \"',\n",
              "  'sequence': 'O \" da moral: basear na lógica dos fracos'},\n",
              " {'score': 0.036432597786188126,\n",
              "  'token': 800,\n",
              "  'token_str': ' erro',\n",
              "  'sequence': 'O erro da moral: basear na lógica dos fracos'},\n",
              " {'score': 0.01930491253733635,\n",
              "  'token': 1092,\n",
              "  'token_str': ' problema',\n",
              "  'sequence': 'O problema da moral: basear na lógica dos fracos'},\n",
              " {'score': 0.01856468990445137,\n",
              "  'token': 276,\n",
              "  'token_str': ' o',\n",
              "  'sequence': 'O o da moral: basear na lógica dos fracos'},\n",
              " {'score': 0.015584331005811691,\n",
              "  'token': 366,\n",
              "  'token_str': 'sa',\n",
              "  'sequence': 'Osa da moral: basear na lógica dos fracos'}]"
            ]
          },
          "metadata": {},
          "execution_count": 33
        }
      ]
    },
    {
      "cell_type": "code",
      "source": [
        "texto = 'Digo-lhes: <mask> é uma dama e um oponente.'\n",
        "fill_mask(texto)"
      ],
      "metadata": {
        "colab": {
          "base_uri": "https://localhost:8080/"
        },
        "id": "-IIqNmXaOmr0",
        "outputId": "736adb5f-d8ca-4367-9726-cca2c2a77181"
      },
      "execution_count": 35,
      "outputs": [
        {
          "output_type": "execute_result",
          "data": {
            "text/plain": [
              "[{'score': 0.21726010739803314,\n",
              "  'token': 262,\n",
              "  'token_str': ' a',\n",
              "  'sequence': 'Digo-lhes: a é uma dama e um oponente.'},\n",
              " {'score': 0.0588272325694561,\n",
              "  'token': 672,\n",
              "  'token_str': ' outro',\n",
              "  'sequence': 'Digo-lhes: outro é uma dama e um oponente.'},\n",
              " {'score': 0.04924759268760681,\n",
              "  'token': 414,\n",
              "  'token_str': ' —',\n",
              "  'sequence': 'Digo-lhes: — é uma dama e um oponente.'},\n",
              " {'score': 0.015046088956296444,\n",
              "  'token': 1526,\n",
              "  'token_str': '.\"',\n",
              "  'sequence': 'Digo-lhes:.\" é uma dama e um oponente.'},\n",
              " {'score': 0.013388772495090961,\n",
              "  'token': 872,\n",
              "  'token_str': ' ponto',\n",
              "  'sequence': 'Digo-lhes: ponto é uma dama e um oponente.'}]"
            ]
          },
          "metadata": {},
          "execution_count": 35
        }
      ]
    }
  ]
}